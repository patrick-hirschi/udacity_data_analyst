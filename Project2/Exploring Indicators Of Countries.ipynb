{
 "cells": [
  {
   "cell_type": "markdown",
   "metadata": {},
   "source": [
    "\"Gapminder has collected a lot of information about how people live their lives in different countries, tracked across the years, and on a number of different indicators.\" - Udacity 2019, Data Analyst Nanodegree Course, Project 2"
   ]
  },
  {
   "cell_type": "markdown",
   "metadata": {},
   "source": [
    "## Selected Datasets"
   ]
  },
  {
   "cell_type": "markdown",
   "metadata": {},
   "source": [
    "From the datasets on [Gapminder](https://www.gapminder.org/data/) I selected various interesting CSV files from the file chooser application on the bottom of the page. I want to indicate here that those are the newer datasets, as this indication is one of the requirements stated in the project description of Udacity. Let me give you a quick overview over the selected files (I renamed the original files from Gapminder to better describe their content and the short descriptions come from Gapminder itself):"
   ]
  },
  {
   "cell_type": "markdown",
   "metadata": {},
   "source": [
    "population_total.csv : Total Population (data after 2010 is based on the medium estimates from UN population division). The dataset even contains projections for the future. This data will be cut off in this project as for all of the other datasets no values for future years are available."
   ]
  },
  {
   "cell_type": "markdown",
   "metadata": {},
   "source": [
    "population_density.csv : Population density (people per sq. km of land area)"
   ]
  },
  {
   "cell_type": "markdown",
   "metadata": {},
   "source": [
    "life_expectancy_years.csv : Life expectancy (years) - average number of years a newborn child would live if current mortality patterns were to stay the same"
   ]
  },
  {
   "cell_type": "markdown",
   "metadata": {},
   "source": [
    "income_per_capita.csv : Income per person (GDP/capita, PPP$ inflation-adjusted)"
   ]
  },
  {
   "cell_type": "markdown",
   "metadata": {},
   "source": [
    "educational_attainment.csv : Educational attainment, at least completed primary school, population 25+ years total (%)"
   ]
  },
  {
   "cell_type": "markdown",
   "metadata": {},
   "source": [
    "tuberculosis_incd.csv : Incidence to suffer a tuberculosis disease"
   ]
  },
  {
   "cell_type": "markdown",
   "metadata": {},
   "source": [
    "hiv_incd.csv : Incidence to suffer a hiv disease"
   ]
  },
  {
   "cell_type": "markdown",
   "metadata": {},
   "source": [
    "## Intention"
   ]
  },
  {
   "cell_type": "markdown",
   "metadata": {},
   "source": [
    "What I want to do is exploring the trends for different countries in these datasets for the three main indicators: Health, Economy/Education, Population. For each of these three main indicators I have corresponding datasets to look at. With the datasets for the hiv and tuberculosis incidence and the life expectancy I want to analyze the health trend in each country. Total population and the population density dataset will help me to make statements about the population itself. Finally the income per capita and the educational attainment will hopefully tell me the trend about the economy/education indicator. This leads me to the questions in the next section."
   ]
  },
  {
   "cell_type": "markdown",
   "metadata": {},
   "source": [
    "## Questions"
   ]
  },
  {
   "cell_type": "markdown",
   "metadata": {},
   "source": [
    "I will group my questions into the following groups:\n",
    "H - Health\n",
    "E - Economy / Education\n",
    "P - Population\n",
    "\n",
    "P: How did the total population and corresponding the population density evolve over the past 50 years?\n",
    "P: Which 10 countries are amongst the most evolving countries from 1970-2019?\n",
    "\n",
    "H: How did the hiv and tuberculosis incidence evolve in the past 50 years looking at the 10 worst-performing countries?\n",
    "H: Analyzing the life expectancy for above 10 countries: Is this trend visible?\n",
    "\n",
    "E: How did the income and educational attainment evolve in the past 50 years looking at the 10 worst-performing countries?\n",
    "\n",
    "Are there trends that can be observed between the selected metrics?"
   ]
  },
  {
   "cell_type": "markdown",
   "metadata": {},
   "source": [
    "## Data Wrangling"
   ]
  },
  {
   "cell_type": "markdown",
   "metadata": {},
   "source": [
    "My goal is to fit the data into a very specific form (Country, Year, Population, PopulationDensity, HIV, Tuberculosis, LifeExpectancy, Income, Education). Therefore I need to merge each of my CSV files into this new structure. This structure allows me in a further stage to efficiently analyze the data and hopefully answer my questions."
   ]
  },
  {
   "cell_type": "markdown",
   "metadata": {},
   "source": [
    "First lets import some libraries. I choose pandas (wrangling / computation), numpy (computation), matplotlib (visualization) and seaborn (visualizsation)."
   ]
  },
  {
   "cell_type": "code",
   "execution_count": 115,
   "metadata": {},
   "outputs": [],
   "source": [
    "import pandas as pd\n",
    "import numpy as np\n",
    "import seaborn as sns\n",
    "import matplotlib.pyplot as plt\n",
    "% matplotlib inline"
   ]
  },
  {
   "cell_type": "markdown",
   "metadata": {},
   "source": [
    "Next i want to import my datasets that I previously downloaded as CSV files from Gapminder.io."
   ]
  },
  {
   "cell_type": "code",
   "execution_count": 116,
   "metadata": {},
   "outputs": [],
   "source": [
    "df_pop = pd.read_csv(\"C:\\\\Users\\\\patri\\\\Desktop\\\\Udacity\\\\Project2\\\\population_total.csv\")\n",
    "df_pop_dens = pd.read_csv(\"C:\\\\Users\\\\patri\\\\Desktop\\\\Udacity\\\\Project2\\\\population_density.csv\")\n",
    "df_tub = pd.read_csv(\"C:\\\\Users\\\\patri\\\\Desktop\\\\Udacity\\\\Project2\\\\tuberculosis_incd.csv\")\n",
    "df_hiv = pd.read_csv(\"C:\\\\Users\\\\patri\\\\Desktop\\\\Udacity\\\\Project2\\\\hiv_incd.csv\")\n",
    "df_exp = pd.read_csv(\"C:\\\\Users\\\\patri\\\\Desktop\\\\Udacity\\\\Project2\\\\life_expectancy_years.csv\")\n",
    "df_inc = pd.read_csv(\"C:\\\\Users\\\\patri\\\\Desktop\\\\Udacity\\\\Project2\\\\income_per_capita.csv\")\n",
    "df_edu = pd.read_csv(\"C:\\\\Users\\\\patri\\\\Desktop\\\\Udacity\\\\Project2\\\\educational_attainment.csv\")"
   ]
  },
  {
   "cell_type": "markdown",
   "metadata": {},
   "source": [
    "Next I need to see on how easy it will be to merge the datasets together:"
   ]
  },
  {
   "cell_type": "code",
   "execution_count": 117,
   "metadata": {},
   "outputs": [
    {
     "name": "stdout",
     "output_type": "stream",
     "text": [
      "Population: (195, 1016) \n",
      "Population Density: (192, 58) \n",
      "Tuberculosis Incidence: (192, 18) \n",
      "HIV incidence: (128, 29) \n",
      "Life Expectancy: (187, 220) \n",
      "Income: (193, 242) \n",
      "Education: (146, 48)\n"
     ]
    }
   ],
   "source": [
    "print(\"Population: \" + str(df_pop.shape) + \n",
    "      \" \\nPopulation Density: \" + str(df_pop_dens.shape) + \n",
    "      \" \\nTuberculosis Incidence: \" + str(df_tub.shape) + \n",
    "      \" \\nHIV incidence: \" + str(df_hiv.shape) + \n",
    "      \" \\nLife Expectancy: \" + str(df_exp.shape) + \n",
    "      \" \\nIncome: \" + str(df_inc.shape) + \n",
    "      \" \\nEducation: \" + str(df_edu.shape))"
   ]
  },
  {
   "cell_type": "markdown",
   "metadata": {},
   "source": [
    "It is already clear, that there will be many missing values after merging all the datasets together. In a next step I want to assign names to the datasets and add them to a list. I will use these names later on."
   ]
  },
  {
   "cell_type": "code",
   "execution_count": 118,
   "metadata": {},
   "outputs": [],
   "source": [
    "df_pop.name = 'pop'\n",
    "df_pop_dens.name = 'pop_dens'\n",
    "df_tub.name = 'tub_incd'\n",
    "df_hiv.name = 'hiv_incd'\n",
    "df_exp.name = 'life_exp'\n",
    "df_inc.name = 'inc'\n",
    "df_edu.name = 'edu'\n",
    "list_of_datasets = [df_pop,df_pop_dens,df_tub,df_hiv,df_exp,df_inc,df_edu]"
   ]
  },
  {
   "cell_type": "markdown",
   "metadata": {},
   "source": [
    "Next i want to define two functions because I do not want redundant code for all of the 7 datasets. The function dropTheseColumns will take a dataframe as input, drop all columns from years not between 1970 and 2019 and then return the edited dataframe. The function transposeFrame takes a dataframe as input and kind of transpose the dataframe. It outputs the dataframe in the format (country,year,name_of_dataframe)."
   ]
  },
  {
   "cell_type": "code",
   "execution_count": 119,
   "metadata": {},
   "outputs": [],
   "source": [
    "# this function drops all columns from years not between 1970 and 2019\n",
    "def dropTheseColumns(df_input):\n",
    "    # iterate through columns\n",
    "    for column in df_input:\n",
    "        # skip column 'country' to avoid TypeErrors\n",
    "        if str(column)!='country': \n",
    "            # drop columns lower or equal 1970\n",
    "            if(int(column)<=1970): df_input.drop(column, axis=1, inplace=True)\n",
    "            # drop columns 2020 or higher\n",
    "            if(int(column)>2019) : df_input.drop(column, axis=1, inplace=True)\n",
    "    return df_input"
   ]
  },
  {
   "cell_type": "code",
   "execution_count": 120,
   "metadata": {},
   "outputs": [],
   "source": [
    "# this function transposes the dataset to (country,year,indicator_value)\n",
    "def transposeFrame(df_input):\n",
    "    # set up the output dataframe\n",
    "    df_output = pd.DataFrame(columns=['country','year',str(df_input.name)])\n",
    "    # iterate through all rows and columns of input dataframe\n",
    "    for index, row in df_input.iterrows():\n",
    "        for column in df_input:\n",
    "            # skip the column 'country'\n",
    "            if str(column)!='country':\n",
    "                # append transposed rows to output dataframe\n",
    "                s = pd.Series([row['country'],column,row[column]],\n",
    "                              index=['country','year',str(df_input.name)])\n",
    "                df_output = df_output.append(s, ignore_index=True)\n",
    "    return df_output"
   ]
  },
  {
   "cell_type": "markdown",
   "metadata": {},
   "source": [
    "Now lets loop through all 7 dataframes and execute the functions on them. This will run for some seconds."
   ]
  },
  {
   "cell_type": "code",
   "execution_count": 121,
   "metadata": {},
   "outputs": [],
   "source": [
    "for index, dataset in enumerate(list_of_datasets):\n",
    "    # drop unwanted columns\n",
    "    dataset = dropTheseColumns(dataset)\n",
    "    # transpose data frame\n",
    "    dataset = transposeFrame(dataset)\n",
    "    # remove duplicates\n",
    "    dataset.drop_duplicates(keep=False,inplace=True)\n",
    "    # reassign dataset to list\n",
    "    list_of_datasets[index] = dataset"
   ]
  },
  {
   "cell_type": "markdown",
   "metadata": {},
   "source": [
    "Now that we have every of the single dataframes in the correct structure we are ready to merge them together based on the values in the country and year column."
   ]
  },
  {
   "cell_type": "code",
   "execution_count": 122,
   "metadata": {},
   "outputs": [],
   "source": [
    "# merge all of the transposes dataframes together\n",
    "df_country_ind = pd.merge(list_of_datasets[0],list_of_datasets[1],\n",
    "                          on=['country','year'],how='left')\n",
    "df_country_ind = pd.merge(df_country_ind,list_of_datasets[2],\n",
    "                          on=['country','year'],how='left')\n",
    "df_country_ind = pd.merge(df_country_ind,list_of_datasets[3],\n",
    "                          on=['country','year'],how='left')\n",
    "df_country_ind = pd.merge(df_country_ind,list_of_datasets[4],\n",
    "                          on=['country','year'],how='left')\n",
    "df_country_ind = pd.merge(df_country_ind,list_of_datasets[5],\n",
    "                          on=['country','year'],how='left')\n",
    "df_country_ind = pd.merge(df_country_ind,list_of_datasets[6],\n",
    "                          on=['country','year'],how='left')"
   ]
  },
  {
   "cell_type": "markdown",
   "metadata": {},
   "source": [
    "Checking the output:"
   ]
  },
  {
   "cell_type": "code",
   "execution_count": 123,
   "metadata": {},
   "outputs": [
    {
     "name": "stdout",
     "output_type": "stream",
     "text": [
      "<class 'pandas.core.frame.DataFrame'>\n",
      "Int64Index: 9555 entries, 0 to 9554\n",
      "Data columns (total 9 columns):\n",
      "country     9555 non-null object\n",
      "year        9555 non-null object\n",
      "pop         8385 non-null object\n",
      "pop_dens    8837 non-null float64\n",
      "tub_incd    3241 non-null float64\n",
      "hiv_incd    3557 non-null float64\n",
      "life_exp    8970 non-null float64\n",
      "inc         9457 non-null object\n",
      "edu         698 non-null float64\n",
      "dtypes: float64(5), object(4)\n",
      "memory usage: 746.5+ KB\n"
     ]
    }
   ],
   "source": [
    "df_country_ind.info()"
   ]
  },
  {
   "cell_type": "markdown",
   "metadata": {},
   "source": [
    "There are many nan values for some columns. I can't do much about those who are just missing because there are no numbers available for early years. But I can do an interpolation of the missing values in between two known values. For this project I will go with a linear interpolation."
   ]
  },
  {
   "cell_type": "markdown",
   "metadata": {},
   "source": [
    "Let us first transform the columns inc and pop to float."
   ]
  },
  {
   "cell_type": "code",
   "execution_count": 124,
   "metadata": {},
   "outputs": [],
   "source": [
    "# change column datatypes for population and income column\n",
    "df_country_ind['pop']=df_country_ind['pop'].astype('float64')\n",
    "df_country_ind['inc']=df_country_ind['inc'].astype('float64')"
   ]
  },
  {
   "cell_type": "markdown",
   "metadata": {},
   "source": [
    "Now the interpolation:"
   ]
  },
  {
   "cell_type": "code",
   "execution_count": 125,
   "metadata": {},
   "outputs": [],
   "source": [
    "df_country_ind = df_country_ind.groupby('country').apply(lambda group: \n",
    "                        group.interpolate(method='linear'))"
   ]
  },
  {
   "cell_type": "markdown",
   "metadata": {},
   "source": [
    "Great, now let's check again:"
   ]
  },
  {
   "cell_type": "code",
   "execution_count": 126,
   "metadata": {},
   "outputs": [
    {
     "name": "stdout",
     "output_type": "stream",
     "text": [
      "<class 'pandas.core.frame.DataFrame'>\n",
      "Int64Index: 9555 entries, 0 to 9554\n",
      "Data columns (total 9 columns):\n",
      "country     9555 non-null object\n",
      "year        9555 non-null object\n",
      "pop         9555 non-null float64\n",
      "pop_dens    9230 non-null float64\n",
      "tub_incd    3817 non-null float64\n",
      "hiv_incd    3813 non-null float64\n",
      "life_exp    9163 non-null float64\n",
      "inc         9457 non-null float64\n",
      "edu         3655 non-null float64\n",
      "dtypes: float64(7), object(2)\n",
      "memory usage: 746.5+ KB\n"
     ]
    }
   ],
   "source": [
    "df_country_ind.info()"
   ]
  },
  {
   "cell_type": "markdown",
   "metadata": {},
   "source": [
    "## Answering the questions"
   ]
  },
  {
   "cell_type": "markdown",
   "metadata": {},
   "source": [
    "### Population Questions"
   ]
  },
  {
   "cell_type": "markdown",
   "metadata": {},
   "source": [
    "Next we want to add a olumn for each indicator holding the change in percentage."
   ]
  },
  {
   "cell_type": "code",
   "execution_count": 127,
   "metadata": {},
   "outputs": [],
   "source": [
    "# add a percentage change column for each of the indicators\n",
    "# it is important to group by country here, otherwise the percentage changes\n",
    "# of different countries get calculated together\n",
    "df_country_ind['pop_pct'] = df_country_ind.groupby('country').pop.pct_change()\n",
    "df_country_ind['pop_dens_pct'] = df_country_ind.groupby('country').pop_dens.pct_change()\n",
    "df_country_ind['tub_incd_pct'] = df_country_ind.groupby('country').tub_incd.pct_change()\n",
    "df_country_ind['hiv_incd_pct'] = df_country_ind.groupby('country').hiv_incd.pct_change()\n",
    "df_country_ind['life_exp_pct'] = df_country_ind.groupby('country').life_exp.pct_change()\n",
    "df_country_ind['inc_pct'] = df_country_ind.groupby('country').inc.pct_change()\n",
    "df_country_ind['edu_pct'] = df_country_ind.groupby('country').edu.pct_change()"
   ]
  },
  {
   "cell_type": "code",
   "execution_count": 128,
   "metadata": {},
   "outputs": [],
   "source": [
    "# set up an aggregated dataframe containing the mean values for every country\n",
    "df_aggregated = df_country_ind.groupby('country').mean()\n",
    "# replace infinite values by nan\n",
    "df_aggregated = df_aggregated.replace([np.inf, -np.inf], np.nan)"
   ]
  },
  {
   "cell_type": "markdown",
   "metadata": {},
   "source": [
    "Sorting the percentage change for the total population descending gives us the 10 fastest growing countries."
   ]
  },
  {
   "cell_type": "code",
   "execution_count": 129,
   "metadata": {},
   "outputs": [
    {
     "data": {
      "text/html": [
       "<div>\n",
       "<style scoped>\n",
       "    .dataframe tbody tr th:only-of-type {\n",
       "        vertical-align: middle;\n",
       "    }\n",
       "\n",
       "    .dataframe tbody tr th {\n",
       "        vertical-align: top;\n",
       "    }\n",
       "\n",
       "    .dataframe thead th {\n",
       "        text-align: right;\n",
       "    }\n",
       "</style>\n",
       "<table border=\"1\" class=\"dataframe\">\n",
       "  <thead>\n",
       "    <tr style=\"text-align: right;\">\n",
       "      <th></th>\n",
       "      <th>country</th>\n",
       "      <th>pop_pct</th>\n",
       "    </tr>\n",
       "  </thead>\n",
       "  <tbody>\n",
       "    <tr>\n",
       "      <th>0</th>\n",
       "      <td>Honduras</td>\n",
       "      <td>122.450759</td>\n",
       "    </tr>\n",
       "    <tr>\n",
       "      <th>1</th>\n",
       "      <td>India</td>\n",
       "      <td>34.850080</td>\n",
       "    </tr>\n",
       "    <tr>\n",
       "      <th>2</th>\n",
       "      <td>Nepal</td>\n",
       "      <td>23.939521</td>\n",
       "    </tr>\n",
       "    <tr>\n",
       "      <th>3</th>\n",
       "      <td>Uganda</td>\n",
       "      <td>20.085180</td>\n",
       "    </tr>\n",
       "    <tr>\n",
       "      <th>4</th>\n",
       "      <td>Argentina</td>\n",
       "      <td>5.438635</td>\n",
       "    </tr>\n",
       "    <tr>\n",
       "      <th>5</th>\n",
       "      <td>Sudan</td>\n",
       "      <td>2.267581</td>\n",
       "    </tr>\n",
       "    <tr>\n",
       "      <th>6</th>\n",
       "      <td>Lithuania</td>\n",
       "      <td>1.733531</td>\n",
       "    </tr>\n",
       "    <tr>\n",
       "      <th>7</th>\n",
       "      <td>Dominican Republic</td>\n",
       "      <td>1.394758</td>\n",
       "    </tr>\n",
       "    <tr>\n",
       "      <th>8</th>\n",
       "      <td>Angola</td>\n",
       "      <td>1.393933</td>\n",
       "    </tr>\n",
       "    <tr>\n",
       "      <th>9</th>\n",
       "      <td>Palestine</td>\n",
       "      <td>1.120757</td>\n",
       "    </tr>\n",
       "  </tbody>\n",
       "</table>\n",
       "</div>"
      ],
      "text/plain": [
       "              country     pop_pct\n",
       "0            Honduras  122.450759\n",
       "1               India   34.850080\n",
       "2               Nepal   23.939521\n",
       "3              Uganda   20.085180\n",
       "4           Argentina    5.438635\n",
       "5               Sudan    2.267581\n",
       "6           Lithuania    1.733531\n",
       "7  Dominican Republic    1.394758\n",
       "8              Angola    1.393933\n",
       "9           Palestine    1.120757"
      ]
     },
     "execution_count": 129,
     "metadata": {},
     "output_type": "execute_result"
    }
   ],
   "source": [
    "df_pop_pct_sorted = df_aggregated.sort_values(by='pop_pct', \n",
    "            ascending=False).head(10)['pop_pct'].to_frame().reset_index()\n",
    "df_pop_pct_sorted"
   ]
  },
  {
   "cell_type": "code",
   "execution_count": 130,
   "metadata": {},
   "outputs": [
    {
     "data": {
      "image/png": "[encoded data removed]",
      "text/plain": [
       "<Figure size 432x288 with 1 Axes>"
      ]
     },
     "metadata": {},
     "output_type": "display_data"
    }
   ],
   "source": [
    "df_pop_pct_sorted.plot.bar()\n",
    "plt.xticks(np.arange(10), df_pop_pct_sorted['country'])\n",
    "plt.xlabel(\"Country\")\n",
    "plt.ylabel(\"Mean Population Growth in %\")\n",
    "plt.title('Mean Population Growth - Top 10')\n",
    "plt.show()"
   ]
  },
  {
   "cell_type": "markdown",
   "metadata": {},
   "source": [
    "The top three countries are Honduras with a remarkable growth, India and Nepal. Also Uganda was growing very fast in the last 50 years. Doing the same with the population density is showing a different result:"
   ]
  },
  {
   "cell_type": "code",
   "execution_count": 131,
   "metadata": {},
   "outputs": [
    {
     "data": {
      "text/html": [
       "<div>\n",
       "<style scoped>\n",
       "    .dataframe tbody tr th:only-of-type {\n",
       "        vertical-align: middle;\n",
       "    }\n",
       "\n",
       "    .dataframe tbody tr th {\n",
       "        vertical-align: top;\n",
       "    }\n",
       "\n",
       "    .dataframe thead th {\n",
       "        text-align: right;\n",
       "    }\n",
       "</style>\n",
       "<table border=\"1\" class=\"dataframe\">\n",
       "  <thead>\n",
       "    <tr style=\"text-align: right;\">\n",
       "      <th></th>\n",
       "      <th>country</th>\n",
       "      <th>pop_dens_pct</th>\n",
       "    </tr>\n",
       "  </thead>\n",
       "  <tbody>\n",
       "    <tr>\n",
       "      <th>0</th>\n",
       "      <td>Nauru</td>\n",
       "      <td>2.187828</td>\n",
       "    </tr>\n",
       "    <tr>\n",
       "      <th>1</th>\n",
       "      <td>Mauritius</td>\n",
       "      <td>1.952733</td>\n",
       "    </tr>\n",
       "    <tr>\n",
       "      <th>2</th>\n",
       "      <td>Monaco</td>\n",
       "      <td>1.948052</td>\n",
       "    </tr>\n",
       "    <tr>\n",
       "      <th>3</th>\n",
       "      <td>Malta</td>\n",
       "      <td>1.258510</td>\n",
       "    </tr>\n",
       "    <tr>\n",
       "      <th>4</th>\n",
       "      <td>India</td>\n",
       "      <td>1.137819</td>\n",
       "    </tr>\n",
       "    <tr>\n",
       "      <th>5</th>\n",
       "      <td>Haiti</td>\n",
       "      <td>0.895629</td>\n",
       "    </tr>\n",
       "    <tr>\n",
       "      <th>6</th>\n",
       "      <td>Liechtenstein</td>\n",
       "      <td>0.757724</td>\n",
       "    </tr>\n",
       "    <tr>\n",
       "      <th>7</th>\n",
       "      <td>Singapore</td>\n",
       "      <td>0.610943</td>\n",
       "    </tr>\n",
       "    <tr>\n",
       "      <th>8</th>\n",
       "      <td>Austria</td>\n",
       "      <td>0.562037</td>\n",
       "    </tr>\n",
       "    <tr>\n",
       "      <th>9</th>\n",
       "      <td>Tuvalu</td>\n",
       "      <td>0.396294</td>\n",
       "    </tr>\n",
       "  </tbody>\n",
       "</table>\n",
       "</div>"
      ],
      "text/plain": [
       "         country  pop_dens_pct\n",
       "0          Nauru      2.187828\n",
       "1      Mauritius      1.952733\n",
       "2         Monaco      1.948052\n",
       "3          Malta      1.258510\n",
       "4          India      1.137819\n",
       "5          Haiti      0.895629\n",
       "6  Liechtenstein      0.757724\n",
       "7      Singapore      0.610943\n",
       "8        Austria      0.562037\n",
       "9         Tuvalu      0.396294"
      ]
     },
     "execution_count": 131,
     "metadata": {},
     "output_type": "execute_result"
    }
   ],
   "source": [
    "df_pop_dens_pct_sorted = df_aggregated.sort_values(by='pop_dens_pct', \n",
    "            ascending=False).head(10)['pop_dens_pct'].to_frame().reset_index()\n",
    "df_pop_dens_pct_sorted"
   ]
  },
  {
   "cell_type": "code",
   "execution_count": 132,
   "metadata": {},
   "outputs": [
    {
     "data": {
      "image/png": "[encoded data removed]",
      "text/plain": [
       "<Figure size 432x288 with 1 Axes>"
      ]
     },
     "metadata": {},
     "output_type": "display_data"
    }
   ],
   "source": [
    "df_pop_dens_pct_sorted.plot.bar()\n",
    "plt.xticks(np.arange(10), df_pop_dens_pct_sorted['country'])\n",
    "plt.xlabel(\"Country\")\n",
    "plt.ylabel(\"Mean Population Density Growth in %\")\n",
    "plt.title('Mean Population Density Growth - Top 10')\n",
    "plt.show()"
   ]
  },
  {
   "cell_type": "markdown",
   "metadata": {},
   "source": [
    "Only india of the top 10 countries in total population growth is also present in the top 10 population density growth. This answered my two questions in the group \"Population\"."
   ]
  },
  {
   "cell_type": "markdown",
   "metadata": {},
   "source": [
    "### Health Questions"
   ]
  },
  {
   "cell_type": "markdown",
   "metadata": {},
   "source": [
    "Sorting the percentage change for the hiv and tuberculosis incidence descending gives us the 10 worst performing countries. First the hiv incidence."
   ]
  },
  {
   "cell_type": "code",
   "execution_count": 133,
   "metadata": {},
   "outputs": [
    {
     "data": {
      "text/html": [
       "<div>\n",
       "<style scoped>\n",
       "    .dataframe tbody tr th:only-of-type {\n",
       "        vertical-align: middle;\n",
       "    }\n",
       "\n",
       "    .dataframe tbody tr th {\n",
       "        vertical-align: top;\n",
       "    }\n",
       "\n",
       "    .dataframe thead th {\n",
       "        text-align: right;\n",
       "    }\n",
       "</style>\n",
       "<table border=\"1\" class=\"dataframe\">\n",
       "  <thead>\n",
       "    <tr style=\"text-align: right;\">\n",
       "      <th></th>\n",
       "      <th>country</th>\n",
       "      <th>hiv_incd_pct</th>\n",
       "    </tr>\n",
       "  </thead>\n",
       "  <tbody>\n",
       "    <tr>\n",
       "      <th>0</th>\n",
       "      <td>Lesotho</td>\n",
       "      <td>6.658068</td>\n",
       "    </tr>\n",
       "    <tr>\n",
       "      <th>1</th>\n",
       "      <td>South Africa</td>\n",
       "      <td>3.234318</td>\n",
       "    </tr>\n",
       "    <tr>\n",
       "      <th>2</th>\n",
       "      <td>Mozambique</td>\n",
       "      <td>2.204907</td>\n",
       "    </tr>\n",
       "    <tr>\n",
       "      <th>3</th>\n",
       "      <td>Cameroon</td>\n",
       "      <td>1.268284</td>\n",
       "    </tr>\n",
       "    <tr>\n",
       "      <th>4</th>\n",
       "      <td>Malawi</td>\n",
       "      <td>1.176644</td>\n",
       "    </tr>\n",
       "    <tr>\n",
       "      <th>5</th>\n",
       "      <td>Kenya</td>\n",
       "      <td>1.061193</td>\n",
       "    </tr>\n",
       "    <tr>\n",
       "      <th>6</th>\n",
       "      <td>Nigeria</td>\n",
       "      <td>0.881641</td>\n",
       "    </tr>\n",
       "    <tr>\n",
       "      <th>7</th>\n",
       "      <td>Namibia</td>\n",
       "      <td>0.874021</td>\n",
       "    </tr>\n",
       "    <tr>\n",
       "      <th>8</th>\n",
       "      <td>Central African Republic</td>\n",
       "      <td>0.805424</td>\n",
       "    </tr>\n",
       "    <tr>\n",
       "      <th>9</th>\n",
       "      <td>Tanzania</td>\n",
       "      <td>0.789540</td>\n",
       "    </tr>\n",
       "  </tbody>\n",
       "</table>\n",
       "</div>"
      ],
      "text/plain": [
       "                    country  hiv_incd_pct\n",
       "0                   Lesotho      6.658068\n",
       "1              South Africa      3.234318\n",
       "2                Mozambique      2.204907\n",
       "3                  Cameroon      1.268284\n",
       "4                    Malawi      1.176644\n",
       "5                     Kenya      1.061193\n",
       "6                   Nigeria      0.881641\n",
       "7                   Namibia      0.874021\n",
       "8  Central African Republic      0.805424\n",
       "9                  Tanzania      0.789540"
      ]
     },
     "execution_count": 133,
     "metadata": {},
     "output_type": "execute_result"
    }
   ],
   "source": [
    "df_hiv_incd_pct_sorted = df_aggregated.sort_values(by='hiv_incd_pct', \n",
    "            ascending=False).head(10)['hiv_incd_pct'].to_frame().reset_index()\n",
    "df_hiv_incd_pct_sorted"
   ]
  },
  {
   "cell_type": "code",
   "execution_count": 134,
   "metadata": {},
   "outputs": [
    {
     "data": {
      "image/png": "[encoded data removed]",
      "text/plain": [
       "<Figure size 432x288 with 1 Axes>"
      ]
     },
     "metadata": {},
     "output_type": "display_data"
    }
   ],
   "source": [
    "df_hiv_incd_pct_sorted.plot.bar()\n",
    "plt.xticks(np.arange(10), df_hiv_incd_pct_sorted['country'])\n",
    "plt.xlabel(\"Country\")\n",
    "plt.ylabel(\"Mean HIV Incidence Growth in %\")\n",
    "plt.title('Mean HIV Incidence Growth - Top 10')\n",
    "plt.show()"
   ]
  },
  {
   "cell_type": "markdown",
   "metadata": {},
   "source": [
    "It is not very surprising that there are many countries from Africa in the top 10. Lets check if the same is the case for the tuberculosis incidence."
   ]
  },
  {
   "cell_type": "code",
   "execution_count": 135,
   "metadata": {},
   "outputs": [
    {
     "data": {
      "text/html": [
       "<div>\n",
       "<style scoped>\n",
       "    .dataframe tbody tr th:only-of-type {\n",
       "        vertical-align: middle;\n",
       "    }\n",
       "\n",
       "    .dataframe tbody tr th {\n",
       "        vertical-align: top;\n",
       "    }\n",
       "\n",
       "    .dataframe thead th {\n",
       "        text-align: right;\n",
       "    }\n",
       "</style>\n",
       "<table border=\"1\" class=\"dataframe\">\n",
       "  <thead>\n",
       "    <tr style=\"text-align: right;\">\n",
       "      <th></th>\n",
       "      <th>country</th>\n",
       "      <th>tub_incd_pct</th>\n",
       "    </tr>\n",
       "  </thead>\n",
       "  <tbody>\n",
       "    <tr>\n",
       "      <th>0</th>\n",
       "      <td>India</td>\n",
       "      <td>2.032202</td>\n",
       "    </tr>\n",
       "    <tr>\n",
       "      <th>1</th>\n",
       "      <td>Lesotho</td>\n",
       "      <td>1.810011</td>\n",
       "    </tr>\n",
       "    <tr>\n",
       "      <th>2</th>\n",
       "      <td>Belarus</td>\n",
       "      <td>1.367611</td>\n",
       "    </tr>\n",
       "    <tr>\n",
       "      <th>3</th>\n",
       "      <td>Gabon</td>\n",
       "      <td>1.301957</td>\n",
       "    </tr>\n",
       "    <tr>\n",
       "      <th>4</th>\n",
       "      <td>Angola</td>\n",
       "      <td>1.238485</td>\n",
       "    </tr>\n",
       "    <tr>\n",
       "      <th>5</th>\n",
       "      <td>Djibouti</td>\n",
       "      <td>1.106966</td>\n",
       "    </tr>\n",
       "    <tr>\n",
       "      <th>6</th>\n",
       "      <td>Panama</td>\n",
       "      <td>1.104720</td>\n",
       "    </tr>\n",
       "    <tr>\n",
       "      <th>7</th>\n",
       "      <td>Marshall Islands</td>\n",
       "      <td>0.670395</td>\n",
       "    </tr>\n",
       "    <tr>\n",
       "      <th>8</th>\n",
       "      <td>Pakistan</td>\n",
       "      <td>0.604846</td>\n",
       "    </tr>\n",
       "    <tr>\n",
       "      <th>9</th>\n",
       "      <td>Cape Verde</td>\n",
       "      <td>0.517427</td>\n",
       "    </tr>\n",
       "  </tbody>\n",
       "</table>\n",
       "</div>"
      ],
      "text/plain": [
       "            country  tub_incd_pct\n",
       "0             India      2.032202\n",
       "1           Lesotho      1.810011\n",
       "2           Belarus      1.367611\n",
       "3             Gabon      1.301957\n",
       "4            Angola      1.238485\n",
       "5          Djibouti      1.106966\n",
       "6            Panama      1.104720\n",
       "7  Marshall Islands      0.670395\n",
       "8          Pakistan      0.604846\n",
       "9        Cape Verde      0.517427"
      ]
     },
     "execution_count": 135,
     "metadata": {},
     "output_type": "execute_result"
    }
   ],
   "source": [
    "df_tub_incd_pct_sorted = df_aggregated.sort_values(by='tub_incd_pct', \n",
    "            ascending=False).head(10)['tub_incd_pct'].to_frame().reset_index()\n",
    "df_tub_incd_pct_sorted"
   ]
  },
  {
   "cell_type": "code",
   "execution_count": 136,
   "metadata": {},
   "outputs": [
    {
     "data": {
      "image/png": "[encoded data removed]",
      "text/plain": [
       "<Figure size 432x288 with 1 Axes>"
      ]
     },
     "metadata": {},
     "output_type": "display_data"
    }
   ],
   "source": [
    "df_tub_incd_pct_sorted.plot.bar()\n",
    "plt.xticks(np.arange(10), df_tub_incd_pct_sorted['country'])\n",
    "plt.xlabel(\"Country\")\n",
    "plt.ylabel(\"Mean Tuberculosis Incidence Growth in %\")\n",
    "plt.title('Mean Tuberculosis Incidence Growth - Top 10')\n",
    "plt.show()"
   ]
  },
  {
   "cell_type": "markdown",
   "metadata": {},
   "source": [
    "The tuberculosis data shows surprisingly that India is amongst the top 10 worst performing countries. Maybe this is due to the fact that it was also one of the fastest growing countries of the last 50 years as tuberculosis is an infectious disease. Let us check if these trends are visible in the life expectancy."
   ]
  },
  {
   "cell_type": "code",
   "execution_count": 137,
   "metadata": {},
   "outputs": [
    {
     "data": {
      "text/html": [
       "<div>\n",
       "<style scoped>\n",
       "    .dataframe tbody tr th:only-of-type {\n",
       "        vertical-align: middle;\n",
       "    }\n",
       "\n",
       "    .dataframe tbody tr th {\n",
       "        vertical-align: top;\n",
       "    }\n",
       "\n",
       "    .dataframe thead th {\n",
       "        text-align: right;\n",
       "    }\n",
       "</style>\n",
       "<table border=\"1\" class=\"dataframe\">\n",
       "  <thead>\n",
       "    <tr style=\"text-align: right;\">\n",
       "      <th></th>\n",
       "      <th>country</th>\n",
       "      <th>life_exp</th>\n",
       "    </tr>\n",
       "  </thead>\n",
       "  <tbody>\n",
       "    <tr>\n",
       "      <th>0</th>\n",
       "      <td>Central African Republic</td>\n",
       "      <td>47.867347</td>\n",
       "    </tr>\n",
       "    <tr>\n",
       "      <th>1</th>\n",
       "      <td>Malawi</td>\n",
       "      <td>49.744898</td>\n",
       "    </tr>\n",
       "    <tr>\n",
       "      <th>2</th>\n",
       "      <td>Burundi</td>\n",
       "      <td>49.928571</td>\n",
       "    </tr>\n",
       "    <tr>\n",
       "      <th>3</th>\n",
       "      <td>Afghanistan</td>\n",
       "      <td>50.534694</td>\n",
       "    </tr>\n",
       "    <tr>\n",
       "      <th>4</th>\n",
       "      <td>Niger</td>\n",
       "      <td>50.824490</td>\n",
       "    </tr>\n",
       "    <tr>\n",
       "      <th>5</th>\n",
       "      <td>Guinea-Bissau</td>\n",
       "      <td>50.828571</td>\n",
       "    </tr>\n",
       "    <tr>\n",
       "      <th>6</th>\n",
       "      <td>Sierra Leone</td>\n",
       "      <td>51.397959</td>\n",
       "    </tr>\n",
       "    <tr>\n",
       "      <th>7</th>\n",
       "      <td>Mali</td>\n",
       "      <td>51.716327</td>\n",
       "    </tr>\n",
       "    <tr>\n",
       "      <th>8</th>\n",
       "      <td>Mozambique</td>\n",
       "      <td>51.797959</td>\n",
       "    </tr>\n",
       "    <tr>\n",
       "      <th>9</th>\n",
       "      <td>Ethiopia</td>\n",
       "      <td>51.924490</td>\n",
       "    </tr>\n",
       "  </tbody>\n",
       "</table>\n",
       "</div>"
      ],
      "text/plain": [
       "                    country   life_exp\n",
       "0  Central African Republic  47.867347\n",
       "1                    Malawi  49.744898\n",
       "2                   Burundi  49.928571\n",
       "3               Afghanistan  50.534694\n",
       "4                     Niger  50.824490\n",
       "5             Guinea-Bissau  50.828571\n",
       "6              Sierra Leone  51.397959\n",
       "7                      Mali  51.716327\n",
       "8                Mozambique  51.797959\n",
       "9                  Ethiopia  51.924490"
      ]
     },
     "execution_count": 137,
     "metadata": {},
     "output_type": "execute_result"
    }
   ],
   "source": [
    "df_life_exp_sorted = df_aggregated.sort_values(by='life_exp', \n",
    "            ascending=True).head(10)['life_exp'].to_frame().reset_index()\n",
    "df_life_exp_sorted"
   ]
  },
  {
   "cell_type": "markdown",
   "metadata": {},
   "source": [
    "The lowest life expectancies show three members that have also a very high hiv incidence (Malawi,Ethiopia,Mozambique)."
   ]
  },
  {
   "cell_type": "markdown",
   "metadata": {},
   "source": [
    "### Economy / Education Questions"
   ]
  },
  {
   "cell_type": "markdown",
   "metadata": {},
   "source": [
    "Looking at the worst income percentage changes shows us, that for some countries the income was even decreasing over the past 50 years."
   ]
  },
  {
   "cell_type": "code",
   "execution_count": 138,
   "metadata": {},
   "outputs": [
    {
     "data": {
      "text/html": [
       "<div>\n",
       "<style scoped>\n",
       "    .dataframe tbody tr th:only-of-type {\n",
       "        vertical-align: middle;\n",
       "    }\n",
       "\n",
       "    .dataframe tbody tr th {\n",
       "        vertical-align: top;\n",
       "    }\n",
       "\n",
       "    .dataframe thead th {\n",
       "        text-align: right;\n",
       "    }\n",
       "</style>\n",
       "<table border=\"1\" class=\"dataframe\">\n",
       "  <thead>\n",
       "    <tr style=\"text-align: right;\">\n",
       "      <th></th>\n",
       "      <th>country</th>\n",
       "      <th>inc_pct</th>\n",
       "    </tr>\n",
       "  </thead>\n",
       "  <tbody>\n",
       "    <tr>\n",
       "      <th>0</th>\n",
       "      <td>Madagascar</td>\n",
       "      <td>-0.026845</td>\n",
       "    </tr>\n",
       "    <tr>\n",
       "      <th>1</th>\n",
       "      <td>Central African Republic</td>\n",
       "      <td>-0.025710</td>\n",
       "    </tr>\n",
       "    <tr>\n",
       "      <th>2</th>\n",
       "      <td>Djibouti</td>\n",
       "      <td>-0.022052</td>\n",
       "    </tr>\n",
       "    <tr>\n",
       "      <th>3</th>\n",
       "      <td>Niger</td>\n",
       "      <td>-0.020655</td>\n",
       "    </tr>\n",
       "    <tr>\n",
       "      <th>4</th>\n",
       "      <td>Somalia</td>\n",
       "      <td>-0.019246</td>\n",
       "    </tr>\n",
       "    <tr>\n",
       "      <th>5</th>\n",
       "      <td>South Sudan</td>\n",
       "      <td>-0.018266</td>\n",
       "    </tr>\n",
       "    <tr>\n",
       "      <th>6</th>\n",
       "      <td>Comoros</td>\n",
       "      <td>-0.018042</td>\n",
       "    </tr>\n",
       "    <tr>\n",
       "      <th>7</th>\n",
       "      <td>Haiti</td>\n",
       "      <td>-0.017915</td>\n",
       "    </tr>\n",
       "    <tr>\n",
       "      <th>8</th>\n",
       "      <td>North Korea</td>\n",
       "      <td>-0.017254</td>\n",
       "    </tr>\n",
       "    <tr>\n",
       "      <th>9</th>\n",
       "      <td>Gambia</td>\n",
       "      <td>-0.017196</td>\n",
       "    </tr>\n",
       "  </tbody>\n",
       "</table>\n",
       "</div>"
      ],
      "text/plain": [
       "                    country   inc_pct\n",
       "0                Madagascar -0.026845\n",
       "1  Central African Republic -0.025710\n",
       "2                  Djibouti -0.022052\n",
       "3                     Niger -0.020655\n",
       "4                   Somalia -0.019246\n",
       "5               South Sudan -0.018266\n",
       "6                   Comoros -0.018042\n",
       "7                     Haiti -0.017915\n",
       "8               North Korea -0.017254\n",
       "9                    Gambia -0.017196"
      ]
     },
     "execution_count": 138,
     "metadata": {},
     "output_type": "execute_result"
    }
   ],
   "source": [
    "df_inc_pct_sorted = df_aggregated.sort_values(by='inc_pct', \n",
    "            ascending=True).head(10)['inc_pct'].to_frame().reset_index()\n",
    "df_inc_pct_sorted"
   ]
  },
  {
   "cell_type": "code",
   "execution_count": 139,
   "metadata": {},
   "outputs": [
    {
     "data": {
      "image/png": "[encoded data removed]",
      "text/plain": [
       "<Figure size 432x288 with 1 Axes>"
      ]
     },
     "metadata": {},
     "output_type": "display_data"
    }
   ],
   "source": [
    "df_inc_pct_sorted.plot.bar()\n",
    "plt.xticks(np.arange(10), df_inc_pct_sorted['country'])\n",
    "plt.xlabel(\"Country\")\n",
    "plt.ylabel(\"Mean Income Growth in %\")\n",
    "plt.title('Mean Income Growth - Worst 10')\n",
    "plt.show()"
   ]
  },
  {
   "cell_type": "markdown",
   "metadata": {},
   "source": [
    "Also the educational attainment percentage changes were decreasing for the worst performing countries."
   ]
  },
  {
   "cell_type": "code",
   "execution_count": 140,
   "metadata": {},
   "outputs": [
    {
     "data": {
      "text/html": [
       "<div>\n",
       "<style scoped>\n",
       "    .dataframe tbody tr th:only-of-type {\n",
       "        vertical-align: middle;\n",
       "    }\n",
       "\n",
       "    .dataframe tbody tr th {\n",
       "        vertical-align: top;\n",
       "    }\n",
       "\n",
       "    .dataframe thead th {\n",
       "        text-align: right;\n",
       "    }\n",
       "</style>\n",
       "<table border=\"1\" class=\"dataframe\">\n",
       "  <thead>\n",
       "    <tr style=\"text-align: right;\">\n",
       "      <th></th>\n",
       "      <th>country</th>\n",
       "      <th>edu_pct</th>\n",
       "    </tr>\n",
       "  </thead>\n",
       "  <tbody>\n",
       "    <tr>\n",
       "      <th>0</th>\n",
       "      <td>Botswana</td>\n",
       "      <td>-0.019080</td>\n",
       "    </tr>\n",
       "    <tr>\n",
       "      <th>1</th>\n",
       "      <td>Central African Republic</td>\n",
       "      <td>-0.016437</td>\n",
       "    </tr>\n",
       "    <tr>\n",
       "      <th>2</th>\n",
       "      <td>Cape Verde</td>\n",
       "      <td>-0.015664</td>\n",
       "    </tr>\n",
       "    <tr>\n",
       "      <th>3</th>\n",
       "      <td>Liberia</td>\n",
       "      <td>-0.015269</td>\n",
       "    </tr>\n",
       "    <tr>\n",
       "      <th>4</th>\n",
       "      <td>Kenya</td>\n",
       "      <td>-0.014836</td>\n",
       "    </tr>\n",
       "    <tr>\n",
       "      <th>5</th>\n",
       "      <td>Maldives</td>\n",
       "      <td>-0.014704</td>\n",
       "    </tr>\n",
       "    <tr>\n",
       "      <th>6</th>\n",
       "      <td>Vanuatu</td>\n",
       "      <td>-0.014592</td>\n",
       "    </tr>\n",
       "    <tr>\n",
       "      <th>7</th>\n",
       "      <td>Haiti</td>\n",
       "      <td>-0.012756</td>\n",
       "    </tr>\n",
       "    <tr>\n",
       "      <th>8</th>\n",
       "      <td>Congo, Rep.</td>\n",
       "      <td>-0.011359</td>\n",
       "    </tr>\n",
       "    <tr>\n",
       "      <th>9</th>\n",
       "      <td>Ghana</td>\n",
       "      <td>-0.009541</td>\n",
       "    </tr>\n",
       "  </tbody>\n",
       "</table>\n",
       "</div>"
      ],
      "text/plain": [
       "                    country   edu_pct\n",
       "0                  Botswana -0.019080\n",
       "1  Central African Republic -0.016437\n",
       "2                Cape Verde -0.015664\n",
       "3                   Liberia -0.015269\n",
       "4                     Kenya -0.014836\n",
       "5                  Maldives -0.014704\n",
       "6                   Vanuatu -0.014592\n",
       "7                     Haiti -0.012756\n",
       "8               Congo, Rep. -0.011359\n",
       "9                     Ghana -0.009541"
      ]
     },
     "execution_count": 140,
     "metadata": {},
     "output_type": "execute_result"
    }
   ],
   "source": [
    "df_edu_pct_sorted = df_aggregated.sort_values(by='edu_pct', \n",
    "            ascending=True).head(10)['edu_pct'].to_frame().reset_index()\n",
    "df_edu_pct_sorted"
   ]
  },
  {
   "cell_type": "code",
   "execution_count": 141,
   "metadata": {},
   "outputs": [
    {
     "data": {
      "image/png": "[encoded data removed]",
      "text/plain": [
       "<Figure size 432x288 with 1 Axes>"
      ]
     },
     "metadata": {},
     "output_type": "display_data"
    }
   ],
   "source": [
    "df_edu_pct_sorted.plot.bar()\n",
    "plt.xticks(np.arange(10), df_edu_pct_sorted['country'])\n",
    "plt.xlabel(\"Country\")\n",
    "plt.ylabel(\"Mean Educational Attainment Growth in %\")\n",
    "plt.title('Mean Educational Attainment Growth - Worst 10')\n",
    "plt.show()"
   ]
  },
  {
   "cell_type": "markdown",
   "metadata": {},
   "source": [
    "### Trends between selected metrics"
   ]
  },
  {
   "cell_type": "markdown",
   "metadata": {},
   "source": [
    "To observe any trends between the selected metrics I choose to draw a seaborn pairplot. The pairplot plots every metric against any other and shows possible correlations. To do this I need to first setup a new dataframe containing only the percentage changes columns and containing no row with a naN value in it. These would break the pairplot function. I will name this new dataset \"df_country_ind_pct\"."
   ]
  },
  {
   "cell_type": "code",
   "execution_count": 142,
   "metadata": {},
   "outputs": [
    {
     "data": {
      "text/plain": [
       "<seaborn.axisgrid.PairGrid at 0x1f77bdddcc0>"
      ]
     },
     "execution_count": 142,
     "metadata": {},
     "output_type": "execute_result"
    },
    {
     "data": {
      "image/png": "[encoded data removed]",
      "text/plain": [
       "<Figure size 900x900 with 30 Axes>"
      ]
     },
     "metadata": {},
     "output_type": "display_data"
    }
   ],
   "source": [
    "sns.set(style=\"ticks\")\n",
    "# select the important columns\n",
    "df_country_ind_pct = df_country_ind[['country','inc_pct','edu_pct',\n",
    "                                     'life_exp_pct','hiv_incd_pct',\n",
    "                                     'tub_incd_pct']]\n",
    "# selecting only rows that do not contain naN values in any of the columns\n",
    "df_country_ind_pct= df_country_ind_pct[np.isfinite(df_country_ind_pct['inc_pct'])]\n",
    "df_country_ind_pct= df_country_ind_pct[np.isfinite(df_country_ind_pct['edu_pct'])]\n",
    "df_country_ind_pct= df_country_ind_pct[np.isfinite(df_country_ind_pct['life_exp_pct'])]\n",
    "df_country_ind_pct= df_country_ind_pct[np.isfinite(df_country_ind_pct['hiv_incd_pct'])]\n",
    "df_country_ind_pct= df_country_ind_pct[np.isfinite(df_country_ind_pct['tub_incd_pct'])]\n",
    "\n",
    "# pairplot the dataframe\n",
    "sns.pairplot(df_country_ind_pct)"
   ]
  },
  {
   "cell_type": "markdown",
   "metadata": {},
   "source": [
    "The only possible correlations seem to be for income, life expectancy and education. However those plots contain many outliers and also the correlation seems not to strong. It would need a deeper statistical analysis to confirm on those possible correlations."
   ]
  },
  {
   "cell_type": "markdown",
   "metadata": {},
   "source": [
    "## Discussion"
   ]
  },
  {
   "cell_type": "markdown",
   "metadata": {},
   "source": [
    "### Conclusions"
   ]
  },
  {
   "cell_type": "markdown",
   "metadata": {},
   "source": [
    "One of the major conclusions is that India might have a very promising population growth and economy but they also seem to suffer increasing hiv and tuberculosis incidences. It would be interesting to include more of the health parameters and see if there are other correlations to be seen. Another conclusion is that Africa is very poor-performing in all of the selected metrics except the total population. Unfortunately I did not include any infrastructural metrics in my study. Thanks to the scatter plot and all the bar charts I was able to efficiently visualize the Top / worst 10 countries for the selected metrics. "
   ]
  },
  {
   "cell_type": "markdown",
   "metadata": {},
   "source": [
    "### Limitations"
   ]
  },
  {
   "cell_type": "markdown",
   "metadata": {},
   "source": [
    "The datasets were sometimes incomplete especially for some countries in early years. Thanks to the interpolation function I was at least able to fill in the gaps between two known values. This linear interpolation should not have a big influence on the figures about the mean values grouped by country. To be able to communicate more findings it would need a deeper statistical analysis to confirm on the correlations between the selected metrics. This analysis here already shows that there could be some major correlations especially in the african countries. The missing educational attainment, income seems to drastically influence the incidences for deadly diseases like hiv and tuberculosis. This might then also decrease the life expectancy in those countries."
   ]
  },
  {
   "cell_type": "code",
   "execution_count": null,
   "metadata": {},
   "outputs": [],
   "source": []
  }
 ],
 "metadata": {
  "kernelspec": {
   "display_name": "Python 3",
   "language": "python",
   "name": "python3"
  },
  "language_info": {
   "codemirror_mode": {
    "name": "ipython",
    "version": 3
   },
   "file_extension": ".py",
   "mimetype": "text/x-python",
   "name": "python",
   "nbconvert_exporter": "python",
   "pygments_lexer": "ipython3",
   "version": "3.6.5"
  }
 },
 "nbformat": 4,
 "nbformat_minor": 2
}
